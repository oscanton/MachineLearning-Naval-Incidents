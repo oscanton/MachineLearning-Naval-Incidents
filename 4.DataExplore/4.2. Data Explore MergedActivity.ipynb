{
 "cells": [
  {
   "cell_type": "markdown",
   "metadata": {},
   "source": [
    "# Predictive analysis of naval incidents in the USA, 2002 - 2015: <br>\n",
    "## Annex 4.2. Data Explore: MergedActivity"
   ]
  },
  {
   "cell_type": "markdown",
   "metadata": {},
   "source": [
    "> Author: [Oscar Anton](https://www.linkedin.com/in/oscanton/) <br>\n",
    "> Date: 2024 <br>\n",
    "> License: [CC BY-NC-ND 4.0 DEED](https://creativecommons.org/licenses/by-nc-nd/4.0/) <br>\n",
    "> Version: 0.9 <br>"
   ]
  },
  {
   "cell_type": "markdown",
   "metadata": {},
   "source": [
    "# 0. Loadings"
   ]
  },
  {
   "cell_type": "markdown",
   "metadata": {},
   "source": [
    "### Libraries"
   ]
  },
  {
   "cell_type": "code",
   "execution_count": null,
   "metadata": {},
   "outputs": [],
   "source": [
    "# Data general management\n",
    "import numpy as np\n",
    "import pandas as pd\n",
    "\n",
    "# Visualization\n",
    "import matplotlib.pyplot as plt\n",
    "import seaborn as sns\n",
    "import plotly.graph_objects as go\n",
    "import plotly.express as px\n",
    "\n",
    "from statsmodels.tsa.holtwinters import ExponentialSmoothing\n",
    "\n",
    "# Automatic Exploratory Data Analysis (EDA) report\n",
    "from ydata_profiling import ProfileReport\n",
    "\n",
    "# Ignore warnings\n",
    "import warnings\n",
    "warnings.filterwarnings(\"ignore\")"
   ]
  },
  {
   "cell_type": "markdown",
   "metadata": {},
   "source": [
    "### General variables"
   ]
  },
  {
   "cell_type": "code",
   "execution_count": null,
   "metadata": {},
   "outputs": [],
   "source": [
    "# Main data folder\n",
    "merged_activity_folder = '../3.DataPreprocess/DataMergedActivity'\n",
    "\n",
    "# Toggle for export data to external file\n",
    "file_export_enabled = False"
   ]
  },
  {
   "cell_type": "markdown",
   "metadata": {},
   "source": [
    "### Load base dataframe"
   ]
  },
  {
   "cell_type": "code",
   "execution_count": null,
   "metadata": {},
   "outputs": [],
   "source": [
    "# Load dataframe from external file\n",
    "merged_activity = pd.read_feather(merged_activity_folder + '/' + 'merged_activity.feather')\n",
    "\n",
    "# Check dataframe structure\n",
    "print(f'Merged activity {merged_activity.shape} loaded')\n",
    "merged_activity.head()"
   ]
  },
  {
   "cell_type": "markdown",
   "metadata": {},
   "source": [
    "# 1. Vessel features"
   ]
  },
  {
   "cell_type": "markdown",
   "metadata": {},
   "source": [
    "## 1.1. vessel_class"
   ]
  },
  {
   "cell_type": "markdown",
   "metadata": {},
   "source": [
    "### Frequency"
   ]
  },
  {
   "cell_type": "code",
   "execution_count": null,
   "metadata": {},
   "outputs": [],
   "source": [
    "# Filter data: group by vessel class\n",
    "filtered_df = (merged_activity\n",
    "               .drop_duplicates(subset='vessel_id', keep='first')\n",
    "               .groupby('vessel_class').size().reset_index(name='frequency')\n",
    "               .sort_values(by='frequency', ascending=False))\n",
    "\n",
    "# Plot barplot\n",
    "plt.figure(figsize=(10, 6))\n",
    "sns.barplot(x='frequency', y='vessel_class', data=filtered_df,\n",
    "            palette='viridis')\n",
    "\n",
    "# Customize plot\n",
    "plt.title('Vessel type')\n",
    "plt.xlabel('Number of vessels')\n",
    "plt.ylabel(None) \n",
    "plt.show()"
   ]
  },
  {
   "cell_type": "markdown",
   "metadata": {},
   "source": [
    "## 1.2. build_year"
   ]
  },
  {
   "cell_type": "markdown",
   "metadata": {},
   "source": [
    "### Frequency"
   ]
  },
  {
   "cell_type": "code",
   "execution_count": null,
   "metadata": {},
   "outputs": [],
   "source": [
    "# Filter data: build_year between 1800 and 2015\n",
    "filtered_df = (merged_activity\n",
    "               [(merged_activity['build_year'] >= 1800) &\n",
    "                (merged_activity['build_year'] <= 2015)]\n",
    "                .drop_duplicates(subset='vessel_id', keep='first'))\n",
    "\n",
    "# Plot histogram\n",
    "plt.figure(figsize=(10, 6))\n",
    "sns.histplot(filtered_df['build_year'], bins=range(1800, 2016),\n",
    "             edgecolor='None', color='#00bfc4', alpha=0.9)\n",
    "\n",
    "# Customize plot\n",
    "plt.title('Distribution of build year')\n",
    "plt.xlabel('Build Year')\n",
    "plt.ylabel('Number of vessels')\n",
    "plt.grid(True)\n",
    "plt.show()"
   ]
  },
  {
   "cell_type": "markdown",
   "metadata": {},
   "source": [
    "### Age at incident"
   ]
  },
  {
   "cell_type": "code",
   "execution_count": null,
   "metadata": {},
   "outputs": [],
   "source": [
    "# Filter data: age between 0 - 120\n",
    "filtered_df = (merged_activity\n",
    "               [(merged_activity['age'] > 0) &\n",
    "                (merged_activity['age'] < 120)]\n",
    "                .drop_duplicates(subset='vessel_id', keep='first'))\n",
    "\n",
    "# Plot histogram\n",
    "plt.figure(figsize=(10, 6))\n",
    "sns.histplot(filtered_df['age'], bins=range(0, 120),\n",
    "             edgecolor='None', color='#00bfc4', alpha=0.9)\n",
    "\n",
    "# Customize plot\n",
    "plt.title('Age at incident')\n",
    "plt.xlabel('Age')\n",
    "plt.ylabel('Number of vessels')\n",
    "plt.grid(True)\n",
    "plt.show()"
   ]
  },
  {
   "cell_type": "markdown",
   "metadata": {},
   "source": [
    "### Unlikely Age values"
   ]
  },
  {
   "cell_type": "code",
   "execution_count": null,
   "metadata": {},
   "outputs": [],
   "source": [
    "# Filter data: build_year between 1800 and 2015, age < 0\n",
    "filtered_df = (merged_activity\n",
    "               [(merged_activity['build_year'] >= 1800) &\n",
    "                (merged_activity['build_year'] <= 2015)]\n",
    "                .drop_duplicates(subset='vessel_id', keep='first')\n",
    "                .sort_values(by='age', ascending=True)\n",
    "                .head(10)\n",
    "                [['vessel_id', 'vessel_name', 'imo_number', 'event_type', 'date', 'build_year', 'age']])\n",
    "\n",
    "# Print these values\n",
    "print(filtered_df)\n",
    "\n",
    "# Fix some wrong values, according to public data (vesselfinder.com)\n",
    "merged_activity.loc[merged_activity['vessel_id'] == 370425, 'build_year'] = 1992\n",
    "merged_activity.loc[merged_activity['vessel_id'] == 813316, 'build_year'] = 2001\n",
    "merged_activity.loc[merged_activity['vessel_id'] == 567313, 'build_year'] = 2005\n",
    "merged_activity.loc[merged_activity['vessel_id'] == 1229111, 'build_year'] = 2005\n",
    "\n",
    "# Recalculate age variable\n",
    "merged_activity['age'] = pd.to_datetime(merged_activity['date']).dt.year - merged_activity['build_year']\n",
    "\n",
    "# Check data\n",
    "filtered_df = (merged_activity\n",
    "               [(merged_activity['build_year'] >= 1800) &\n",
    "                (merged_activity['build_year'] <= 2015)]\n",
    "                .drop_duplicates(subset='vessel_id', keep='first')\n",
    "                .sort_values(by='age', ascending=True)\n",
    "                .head(10)\n",
    "                [['vessel_id', 'vessel_name', 'imo_number', 'event_type', 'date', 'build_year', 'age']])\n",
    "\n",
    "print(filtered_df)"
   ]
  },
  {
   "cell_type": "markdown",
   "metadata": {},
   "source": [
    "## 1.3. gross_tonnage"
   ]
  },
  {
   "cell_type": "markdown",
   "metadata": {},
   "source": [
    "### Density"
   ]
  },
  {
   "cell_type": "code",
   "execution_count": null,
   "metadata": {},
   "outputs": [],
   "source": [
    "# Filter data\n",
    "filtered_df = (merged_activity\n",
    "               [(merged_activity['gross_ton'] >= 1) &\n",
    "                (merged_activity['gross_ton'] <= 250000)]\n",
    "                .drop_duplicates(subset='vessel_id', keep='first'))\n",
    "\n",
    "# Labels for facet wrap\n",
    "labels = [\"1-1000\", \"1000-250000\"]\n",
    "filtered_df['gross_ton_range'] = pd.cut(filtered_df['gross_ton'], bins=[0, 1000, 250000], labels=labels)\n",
    "\n",
    "# Plot\n",
    "sns.set(style=\"whitegrid\")\n",
    "g = sns.FacetGrid(filtered_df, col=\"gross_ton_range\", col_wrap=1, height=3, aspect=7/3, sharey=False, sharex=False)\n",
    "g.map(sns.kdeplot, \"gross_ton\", shade=True)\n",
    "g.set_axis_labels(\"Gross Ton\", \"Density\")\n",
    "g.set_titles(\"Range {col_name}\")\n",
    "\n",
    "# Customize plot\n",
    "plt.suptitle('Gross Tonnage')\n",
    "plt.tight_layout()\n",
    "plt.show()"
   ]
  },
  {
   "cell_type": "markdown",
   "metadata": {},
   "source": [
    "### Ranking"
   ]
  },
  {
   "cell_type": "code",
   "execution_count": null,
   "metadata": {},
   "outputs": [],
   "source": [
    "# Filter data\n",
    "filtered_df = (merged_activity\n",
    "               .drop_duplicates(subset='vessel_id', keep='first')\n",
    "               .sort_values(by='gross_ton', ascending=False)\n",
    "               .head(10)\n",
    "               [['vessel_id', 'vessel_name', 'imo_number', 'build_year', 'gross_ton', 'length']])\n",
    "\n",
    "# Print these values\n",
    "print(filtered_df)"
   ]
  },
  {
   "cell_type": "markdown",
   "metadata": {},
   "source": [
    "## 1.4. Length"
   ]
  },
  {
   "cell_type": "markdown",
   "metadata": {},
   "source": [
    "### Density"
   ]
  },
  {
   "cell_type": "code",
   "execution_count": null,
   "metadata": {},
   "outputs": [],
   "source": [
    "# Filter data\n",
    "filtered_df = (merged_activity\n",
    "               [(merged_activity['length'] >= 1) &\n",
    "                (merged_activity['length'] <= 1250)]\n",
    "                .drop_duplicates(subset='vessel_id', keep='first'))\n",
    "\n",
    "# Labels for facet wrap\n",
    "labels = [\"1-250\", \"250-1000\"]\n",
    "filtered_df['length_range'] = pd.cut(filtered_df['length'], bins=[0, 250, 1250], labels=labels)\n",
    "\n",
    "# Plot\n",
    "sns.set(style=\"whitegrid\")\n",
    "g = sns.FacetGrid(filtered_df, col=\"length_range\", col_wrap=1, height=3, aspect=7/3, sharey=False, sharex=False)\n",
    "g.map(sns.kdeplot, \"length\", shade=True)\n",
    "g.set_axis_labels(\"Length\", \"Density\")\n",
    "g.set_titles(\"Range {col_name}\")\n",
    "\n",
    "# Customize plot\n",
    "plt.suptitle('Vessel Lengths')\n",
    "plt.tight_layout()\n",
    "plt.show()"
   ]
  },
  {
   "cell_type": "markdown",
   "metadata": {},
   "source": [
    "### Ranking"
   ]
  },
  {
   "cell_type": "code",
   "execution_count": null,
   "metadata": {},
   "outputs": [],
   "source": [
    "# Filter data\n",
    "filtered_df = (merged_activity\n",
    "               .drop_duplicates(subset='vessel_id', keep='first')\n",
    "               .sort_values(by='length', ascending=False)\n",
    "               .head(10)\n",
    "               [['vessel_id', 'vessel_name', 'imo_number', 'build_year', 'gross_ton', 'length']])\n",
    "\n",
    "# Print these values\n",
    "print(filtered_df)"
   ]
  },
  {
   "cell_type": "markdown",
   "metadata": {},
   "source": [
    "## 1.5. flag"
   ]
  },
  {
   "cell_type": "markdown",
   "metadata": {},
   "source": [
    "### Frequency (All)"
   ]
  },
  {
   "cell_type": "code",
   "execution_count": null,
   "metadata": {},
   "outputs": [],
   "source": [
    "# Filter data: group by vessel class\n",
    "filtered_df = (merged_activity\n",
    "               .drop_duplicates(subset='vessel_id', keep='first')\n",
    "               .groupby('flag_abbr').size().reset_index(name='frequency')\n",
    "               .sort_values(by='frequency', ascending=False)\n",
    "               .head(10))\n",
    "\n",
    "# Plot barplot\n",
    "plt.figure(figsize=(10, 6))\n",
    "sns.barplot(x='flag_abbr', y='frequency', data=filtered_df,\n",
    "            palette='viridis')\n",
    "\n",
    "# Customize plot\n",
    "plt.title('Flag (All)')\n",
    "plt.xlabel('Country')\n",
    "plt.ylabel('Number of vessels') \n",
    "plt.show()"
   ]
  },
  {
   "cell_type": "markdown",
   "metadata": {},
   "source": [
    "### Frequency (Foreign)"
   ]
  },
  {
   "cell_type": "code",
   "execution_count": null,
   "metadata": {},
   "outputs": [],
   "source": [
    "# Filter data: drop US flag, group by vessel class\n",
    "filtered_df = (merged_activity\n",
    "               [merged_activity['flag_abbr'] != \"US\"]\n",
    "               .drop_duplicates(subset='vessel_id', keep='first')\n",
    "               .groupby('flag_abbr').size().reset_index(name='frequency')\n",
    "               .sort_values(by='frequency', ascending=False)\n",
    "               .head(10))\n",
    "\n",
    "# Plot barplot\n",
    "plt.figure(figsize=(10, 6))\n",
    "sns.barplot(x='flag_abbr', y='frequency', data=filtered_df,\n",
    "            palette='viridis')\n",
    "\n",
    "# Customize plot\n",
    "plt.title('Flag (Foreign)')\n",
    "plt.xlabel('Country')\n",
    "plt.ylabel('Number of vessels') \n",
    "plt.show()"
   ]
  },
  {
   "cell_type": "markdown",
   "metadata": {},
   "source": [
    "## 1.6. Classification Societies"
   ]
  },
  {
   "cell_type": "code",
   "execution_count": null,
   "metadata": {},
   "outputs": [],
   "source": [
    "# Filter data: group by classification_society\n",
    "filtered_df = (merged_activity\n",
    "               [merged_activity['classification_society'] != \"UNSPECIFIED\"]\n",
    "               .drop_duplicates(subset='vessel_id', keep='first')\n",
    "               .groupby('classification_society').size().reset_index(name='frequency')\n",
    "               .sort_values(by='frequency', ascending=False)\n",
    "               .head(10))\n",
    "\n",
    "# Plot barplot\n",
    "plt.figure(figsize=(10, 6))\n",
    "sns.barplot(x='frequency', y='classification_society', data=filtered_df, \n",
    "            palette='viridis')\n",
    "\n",
    "# Percentage\n",
    "filtered_df['percentage'] = filtered_df['frequency'] / filtered_df['frequency'].sum() * 100\n",
    "for i, (value, percentage) in enumerate(zip(filtered_df['frequency'], filtered_df['percentage'])):\n",
    "    plt.text(value / 2, i, f'{percentage:.1f}%', va='center', ha='center', color='white')\n",
    "\n",
    "# Customize plot\n",
    "plt.title('Classification Societies')\n",
    "plt.xlabel('Number of vessels')\n",
    "plt.ylabel(None)\n",
    "plt.show()"
   ]
  },
  {
   "cell_type": "markdown",
   "metadata": {},
   "source": [
    "## 1.7. SOLAS Membership"
   ]
  },
  {
   "cell_type": "code",
   "execution_count": null,
   "metadata": {},
   "outputs": [],
   "source": [
    "# Filter data: group by SOLAS\n",
    "filtered_df = (merged_activity\n",
    "               .drop_duplicates(subset='vessel_id', keep='first')\n",
    "               .groupby('solas_desc').size().reset_index(name='frequency')\n",
    "               .sort_values(by='frequency', ascending=True))\n",
    "\n",
    "# Plot barplot\n",
    "plt.figure(figsize=(10, 6))\n",
    "sns.barplot(x='solas_desc', y='frequency', data=filtered_df,\n",
    "            palette='viridis') \n",
    "\n",
    "# Percentage\n",
    "filtered_df['percentage'] = filtered_df['frequency'] / filtered_df['frequency'].sum() * 100\n",
    "for i, (value, percentage) in enumerate(zip(filtered_df['frequency'], filtered_df['percentage'])):\n",
    "    plt.text(i, value / 2, f'{percentage:.1f}%', va='center', ha='center', color='white')\n",
    "\n",
    "# Customize plot\n",
    "plt.title('SOLAS Membership')\n",
    "plt.xlabel(None)\n",
    "plt.ylabel('Number of vessels') \n",
    "plt.show()"
   ]
  },
  {
   "cell_type": "markdown",
   "metadata": {},
   "source": [
    "# 2. Incidents"
   ]
  },
  {
   "cell_type": "markdown",
   "metadata": {},
   "source": [
    "## 2.1. event_type"
   ]
  },
  {
   "cell_type": "markdown",
   "metadata": {},
   "source": [
    "### Frequency"
   ]
  },
  {
   "cell_type": "code",
   "execution_count": null,
   "metadata": {},
   "outputs": [],
   "source": [
    "# Filter data: group by event_type\n",
    "filtered_df = (merged_activity\n",
    "               [merged_activity['event_type'] != \"No event\"]\n",
    "               .drop_duplicates(subset='activity_id', keep='first')\n",
    "               .groupby('event_type').size().reset_index(name='frequency')\n",
    "               .sort_values(by='frequency', ascending=False))\n",
    "\n",
    "# Plot barplot\n",
    "plt.figure(figsize=(10, 6))\n",
    "sns.barplot(x='frequency', y='event_type', data=filtered_df,\n",
    "            palette='viridis')\n",
    "\n",
    "# Customize plot\n",
    "plt.title('Incidents')\n",
    "plt.xlabel('Number of vessels')\n",
    "plt.ylabel('Event type') \n",
    "plt.show()"
   ]
  },
  {
   "cell_type": "markdown",
   "metadata": {},
   "source": [
    "### Location"
   ]
  },
  {
   "cell_type": "code",
   "execution_count": null,
   "metadata": {},
   "outputs": [],
   "source": [
    "# Filter data, top 5 event_type:\n",
    "top_5_event_types = (merged_activity['event_type']\n",
    "                     .value_counts()\n",
    "                     .head(5)\n",
    "                     .index)\n",
    "\n",
    "filtered_df = (merged_activity\n",
    "               [merged_activity['event_type']\n",
    "                .isin(top_5_event_types)]\n",
    "                .drop_duplicates(subset='activity_id', keep='first'))\n",
    "\n",
    "# Create scatter mapbox\n",
    "fig = px.scatter_mapbox(filtered_df,\n",
    "                        lat=\"latitude\", lon=\"longitude\",\n",
    "                        color=\"event_type\",\n",
    "                        custom_data=[\"activity_id\", \"vessel_id\", \"date\"])\n",
    "\n",
    "# Add popup data\n",
    "fig.update_traces(opacity=0.5,\n",
    "                  hovertemplate=\"<b>activity_id:</b> %{customdata[0]} \\\n",
    "                            <br><b>vessel_id:</b> %{customdata[1]} \\\n",
    "                            <br><b>date:</b> %{customdata[2]} \\\n",
    "                            <extra></extra>\")\n",
    "\n",
    "# Customize plot\n",
    "fig.update_layout(\n",
    "    legend = dict(yanchor=\"top\", y=0.99, xanchor=\"right\", x=0.99, bgcolor='rgba(255, 255, 255, 0.5)'),\n",
    "    margin = {'l':0,'t':0,'b':0,'r':0},\n",
    "    mapbox = {'style': \"open-street-map\",\n",
    "              'center': {'lon': -112, 'lat': 48},\n",
    "              'zoom': 2})\n",
    "\n",
    "fig.show()\n"
   ]
  },
  {
   "cell_type": "markdown",
   "metadata": {},
   "source": [
    "## 2.3. event_class"
   ]
  },
  {
   "cell_type": "markdown",
   "metadata": {},
   "source": [
    "### Location"
   ]
  },
  {
   "cell_type": "code",
   "execution_count": null,
   "metadata": {},
   "outputs": [],
   "source": [
    "# Filter data\n",
    "filtered_df = (merged_activity\n",
    "               .drop_duplicates(subset='activity_id', keep='first')\n",
    "               .copy())\n",
    "\n",
    "# Create scatter mapbox\n",
    "fig = px.scatter_mapbox(filtered_df,\n",
    "                        lat=\"latitude\", lon=\"longitude\",\n",
    "                        color=\"event_class\",\n",
    "                        custom_data=[\"activity_id\", \"vessel_id\", \"date\"])\n",
    "\n",
    "# Add popup data\n",
    "fig.update_traces(opacity=0.5,\n",
    "                  hovertemplate=\"<b>activity_id:</b> %{customdata[0]} \\\n",
    "                            <br><b>vessel_id:</b> %{customdata[1]} \\\n",
    "                            <br><b>date:</b> %{customdata[2]} \\\n",
    "                            <extra></extra>\")\n",
    "\n",
    "# Customize plot\n",
    "fig.update_layout(\n",
    "    legend = dict(yanchor=\"top\", y=0.99, xanchor=\"right\", x=0.99, bgcolor='rgba(255, 255, 255, 0.5)'),\n",
    "    margin = {'l':0,'t':0,'b':0,'r':0},\n",
    "    mapbox = {'style': \"open-street-map\",\n",
    "              'center': {'lon': -112, 'lat': 48},\n",
    "              'zoom': 2})\n",
    "\n",
    "fig.show()"
   ]
  },
  {
   "cell_type": "markdown",
   "metadata": {},
   "source": [
    "## 2.4. event_type"
   ]
  },
  {
   "cell_type": "markdown",
   "metadata": {},
   "source": [
    "### Time Series"
   ]
  },
  {
   "cell_type": "code",
   "execution_count": null,
   "metadata": {},
   "outputs": [],
   "source": [
    "# Data filter\n",
    "filtered_df = (merged_activity\n",
    "               .drop_duplicates(subset='activity_id', keep='first')\n",
    "               .copy())\n",
    "\n",
    "# Calculating year and month\n",
    "filtered_df['year'] = filtered_df['date'].dt.year\n",
    "filtered_df['month'] = filtered_df['date'].dt.month\n",
    "\n",
    "# Counting incidents per month\n",
    "incidents_month = filtered_df.groupby(['year', 'month']).size().reset_index(name='incidents_month')\n",
    "\n",
    "# Creating 'date' column\n",
    "incidents_month['date'] = pd.to_datetime(incidents_month[['year', 'month']].assign(day=1))\n",
    "\n",
    "# Smoothing using Holt-Winters\n",
    "model = ExponentialSmoothing(incidents_month['incidents_month'], trend=None, seasonal=None)\n",
    "fit = model.fit()\n",
    "incidents_month['incidents_smooth'] = fit.fittedvalues.shift(1)\n",
    "\n",
    "# Sorting and visualization\n",
    "incidents_month = incidents_month.sort_values(['year', 'month']).reset_index(drop=True)\n",
    "\n",
    "# Visualization\n",
    "plt.plot(incidents_month['date'], incidents_month['incidents_smooth'],\n",
    "         color='#f8766d', label='Holt-Winters Smoothing')\n",
    "plt.plot(incidents_month['date'], incidents_month['incidents_month'],\n",
    "         color='#00bfc4', label='Monthly Incidents', linewidth=1)\n",
    "plt.xlabel('Date')\n",
    "plt.ylabel('Number of Incidents')\n",
    "plt.title('Monthly Evolution of Incidents')\n",
    "plt.legend(title='Series:')\n",
    "plt.grid(True)\n",
    "plt.show()"
   ]
  },
  {
   "cell_type": "markdown",
   "metadata": {},
   "source": [
    "## 2.5. Incident hour"
   ]
  },
  {
   "cell_type": "markdown",
   "metadata": {},
   "source": [
    "### Frequency"
   ]
  },
  {
   "cell_type": "code",
   "execution_count": null,
   "metadata": {},
   "outputs": [],
   "source": [
    "# Data filter\n",
    "filtered_df = (merged_activity\n",
    "               .drop_duplicates(subset='activity_id', keep='first')\n",
    "               .copy())\n",
    "\n",
    "# Calculate hour in decimal format\n",
    "filtered_df['hour_dec'] = round(pd.to_numeric(filtered_df['hour'].str.split(':').str[0]) + \n",
    "                               (pd.to_numeric(filtered_df['hour'].str.split(':').str[1]) / 60), 2)\n",
    "\n",
    "# Density plot\n",
    "plt.figure(figsize=(10, 6))\n",
    "sns.kdeplot(data=filtered_df, x='hour_dec', fill=True, color=\"#00bfc4\", alpha=0.9)\n",
    "\n",
    "# Customize plot\n",
    "plt.xlim(0, 24)\n",
    "plt.xticks(range(25))\n",
    "plt.title(\"Distribution of incidents by hour\")\n",
    "plt.xlabel(\"Hour\")\n",
    "plt.ylabel(\"Density\")\n",
    "plt.grid(True, linestyle='--', alpha=0.5)\n",
    "plt.show()"
   ]
  },
  {
   "cell_type": "markdown",
   "metadata": {},
   "source": [
    "## 2.6. damage_assesment"
   ]
  },
  {
   "cell_type": "markdown",
   "metadata": {},
   "source": [
    "### Ranking"
   ]
  },
  {
   "cell_type": "code",
   "execution_count": null,
   "metadata": {},
   "outputs": [],
   "source": [
    "# Filter data\n",
    "filtered_df = (merged_activity\n",
    "               .drop_duplicates(subset='activity_id', keep='first')\n",
    "               .sort_values(by='damage_assessment', ascending=False)\n",
    "               .head(10)\n",
    "               [['activity_id', 'vessel_name', 'event_type', 'damage_assessment']])\n",
    "\n",
    "# Print these values\n",
    "print(filtered_df)"
   ]
  },
  {
   "cell_type": "markdown",
   "metadata": {},
   "source": [
    "## 2.7. casualty"
   ]
  },
  {
   "cell_type": "markdown",
   "metadata": {},
   "source": [
    "### Frequency"
   ]
  },
  {
   "cell_type": "code",
   "execution_count": null,
   "metadata": {},
   "outputs": [],
   "source": [
    "# Filter data: group by casualty\n",
    "filtered_df = (merged_activity\n",
    "               .drop_duplicates(subset='activity_id', keep='first')\n",
    "               .drop(merged_activity[merged_activity['casualty'] == \"UNSPECIFIED\"].index)\n",
    "               .groupby('casualty').size().reset_index(name='frequency')\n",
    "               .sort_values(by='frequency', ascending=False))\n",
    "\n",
    "# Plot barplot\n",
    "plt.figure(figsize=(10, 6))\n",
    "sns.barplot(x='casualty', y='frequency', data=filtered_df, palette='viridis') \n",
    "\n",
    "# Percentage\n",
    "filtered_df['percentage'] = filtered_df['frequency'] / filtered_df['frequency'].sum() * 100\n",
    "for i, (value, percentage) in enumerate(zip(filtered_df['frequency'], filtered_df['percentage'])):\n",
    "    plt.text(i, value / 2, f'{percentage:.1f}%', va='center', ha='center', color='white')\n",
    "\n",
    "# Customize plot\n",
    "plt.title('Casualty Type frequency')\n",
    "plt.xlabel(None)\n",
    "plt.ylabel('Number of vessels') \n",
    "plt.show()"
   ]
  },
  {
   "cell_type": "markdown",
   "metadata": {},
   "source": [
    "# 3. Geography"
   ]
  },
  {
   "cell_type": "markdown",
   "metadata": {},
   "source": [
    "## 3.1. Regions"
   ]
  },
  {
   "cell_type": "markdown",
   "metadata": {},
   "source": [
    "### Map"
   ]
  },
  {
   "cell_type": "code",
   "execution_count": null,
   "metadata": {},
   "outputs": [],
   "source": [
    "# Create and configure map layout\n",
    "fig = go.Figure(\n",
    "    layout=dict(\n",
    "        legend=dict(yanchor=\"top\", y=0.99, xanchor=\"right\", x=0.99, bgcolor='rgba(255, 255, 255, 0.5)'),\n",
    "        margin={'l': 0, 't': 0, 'b': 0, 'r': 0},\n",
    "        mapbox={\n",
    "            'style': \"open-street-map\",\n",
    "            'center': {'lon': -112, 'lat': 48},\n",
    "            'zoom': 2\n",
    "        }\n",
    "    )\n",
    ")\n",
    "\n",
    "# Add region rectangles\n",
    "fig.add_trace(go.Scattermapbox(\n",
    "    name=\"Alaska\",\n",
    "    mode = \"lines\", fill = \"toself\", line=dict(color='rgba(0,0,0,0)'),fillcolor='rgba(255, 0, 0, 0.2)',\n",
    "    lon = [-180, -180, -122, -122], lat = [70, 49, 49, 70, 70]))\n",
    "\n",
    "fig.add_trace(go.Scattermapbox(\n",
    "    name=\"Canada\",\n",
    "    mode = \"lines\", fill = \"toself\", line=dict(color='rgba(0,0,0,0)'),fillcolor='rgba(128, 0, 128, 0.2)',\n",
    "    lon = [-122, -122, -45, -45], lat = [70, 49, 49, 70, 70]))\n",
    "\n",
    "fig.add_trace(go.Scattermapbox(\n",
    "    name=\"East Coast\",\n",
    "    mode = \"lines\", fill = \"toself\", line=dict(color='rgba(0,0,0,0)'),fillcolor='rgba(0, 0, 255, 0.2)',\n",
    "    lon = [-81.5, -81.5, -45, -45], lat = [49, 15, 15, 49, 70]))\n",
    "\n",
    "fig.add_trace(go.Scattermapbox(\n",
    "    name=\"West Coast\",\n",
    "    mode = \"lines\", fill = \"toself\", line=dict(color='rgba(0,0,0,0)'),fillcolor='rgba(255, 255, 0, 0.2)',\n",
    "    lon = [-180, -180, -100, -100], lat = [49, 15, 15, 49, 49]))\n",
    "\n",
    "fig.add_trace(go.Scattermapbox(\n",
    "    name=\"Gulf of Mexico\",\n",
    "    mode = \"lines\", fill = \"toself\", line=dict(color='rgba(0,0,0,0)'),fillcolor='rgba(255, 165, 0, 0.2)',\n",
    "    lon = [-100, -100, -81.5, -81.5], lat = [31, 15, 15, 31, 31]))\n",
    "\n",
    "fig.add_trace(go.Scattermapbox(\n",
    "    name=\"Mississippi\",\n",
    "    mode = \"lines\", fill = \"toself\", line=dict(color='rgba(0,0,0,0)'),fillcolor='rgba(0, 255, 0, 0.2)',\n",
    "    lon = [-100, -100, -81.5, -81.5], lat = [49, 31, 31, 49, 49]))\n",
    "\n",
    "# Add watertype Makers\n",
    "marker_text = merged_activity.apply(lambda row:f\"activity_id:{row['activity_id']}<br>date: {row['date']}\", axis=1)\n",
    "marker_color = merged_activity['watertype'].map({'river': 'green', 'ocean': 'blue'})\n",
    "\n",
    "fig.add_trace(go.Scattermapbox(\n",
    "    name=\"watertype\",\n",
    "    mode='markers',\n",
    "    marker=dict(size=5, color=marker_color, opacity=0.1),\n",
    "    text=marker_text,\n",
    "    lat=merged_activity['latitude'], lon=merged_activity['longitude']\n",
    "))\n",
    "\n",
    "# Show map\n",
    "fig.show()"
   ]
  },
  {
   "cell_type": "markdown",
   "metadata": {},
   "source": [
    "## 3.2. Incidents per Region"
   ]
  },
  {
   "cell_type": "code",
   "execution_count": null,
   "metadata": {},
   "outputs": [],
   "source": [
    "# Filter data: group by region\n",
    "filtered_df = (merged_activity\n",
    "               .drop_duplicates(subset='activity_id', keep='first')\n",
    "               .groupby('region').size().reset_index(name='frequency')\n",
    "               .sort_values(by='frequency', ascending=False))\n",
    "\n",
    "# Plot barplot\n",
    "plt.figure(figsize=(10, 6))\n",
    "sns.barplot(x='region', y='frequency', data=filtered_df, palette='viridis') \n",
    "\n",
    "# Percentage\n",
    "filtered_df['percentage'] = filtered_df['frequency'] / filtered_df['frequency'].sum() * 100\n",
    "for i, (value, percentage) in enumerate(zip(filtered_df['frequency'], filtered_df['percentage'])):\n",
    "    plt.text(i, value / 2, f'{percentage:.1f}%', va='center', ha='center', color='white')\n",
    "\n",
    "# Customize plot\n",
    "plt.title('Incidents per region')\n",
    "plt.xlabel(None)\n",
    "plt.ylabel('Number of incidents') \n",
    "plt.show()"
   ]
  },
  {
   "cell_type": "markdown",
   "metadata": {},
   "source": [
    "## 3.3. Most frequent Incident per Region"
   ]
  },
  {
   "cell_type": "code",
   "execution_count": null,
   "metadata": {},
   "outputs": [],
   "source": [
    "# Drop duplicate rows keeping the first occurrence of each activity_id\n",
    "filtered_df = (merged_activity\n",
    "               .drop_duplicates(subset='activity_id', keep='first')\n",
    "               .copy())\n",
    "\n",
    "# Calculate the number of events per region\n",
    "filtered_df['num_events_per_region'] = (filtered_df\n",
    "                                        .groupby('region')['region']\n",
    "                                        .transform('count'))\n",
    "\n",
    "# Find the most frequent event per region\n",
    "filtered_df['most_frequent_event'] = (filtered_df\n",
    "                                      .groupby('region')['event_type']\n",
    "                                      .transform(lambda x: x.value_counts().index[0]))\n",
    "\n",
    "# Select required columns, drop duplicate rows, sort by the number of events\n",
    "filtered_df = (filtered_df\n",
    "               [['region', 'most_frequent_event', 'num_events_per_region']]\n",
    "               .drop_duplicates()\n",
    "               .sort_values(by='num_events_per_region', ascending=False))\n",
    "\n",
    "# Display the resulting DataFrame\n",
    "print(filtered_df)"
   ]
  },
  {
   "cell_type": "markdown",
   "metadata": {},
   "source": [
    "## 3.4. Bonus: Bermuda Triangle"
   ]
  },
  {
   "cell_type": "code",
   "execution_count": null,
   "metadata": {},
   "outputs": [],
   "source": [
    "# Create and configure map layout\n",
    "fig = go.Figure(\n",
    "    layout=dict(\n",
    "        legend=dict(yanchor=\"top\", y=0.99, xanchor=\"right\", x=0.99, bgcolor='rgba(255, 255, 255, 0.5)'),\n",
    "        margin={'l': 0, 't': 0, 'b': 0, 'r': 0},\n",
    "        mapbox={\n",
    "            'style': \"open-street-map\",\n",
    "            'center': {'lon': -112, 'lat': 48},\n",
    "            'zoom': 2\n",
    "        }\n",
    "    )\n",
    ")\n",
    "\n",
    "# Add region triangle\n",
    "fig.add_trace(go.Scattermapbox(\n",
    "    name=\"Bermuda Triangle\",\n",
    "    mode = \"lines\", fill = \"toself\", line=dict(color='rgba(0,0,0,0)'),fillcolor='rgba(255, 69, 0, 0.2)',\n",
    "    lon = [-64, -80, -66], lat = [33, 26, 18]))\n",
    "\n",
    "# Add watertype Makers\n",
    "marker_text = (merged_activity\n",
    "               .apply(lambda row:f\"activity_id:{row['activity_id']}<br> date: {row['date']}<br> watertype: {row['watertype']}\",axis=1))\n",
    "marker_color = (merged_activity['watertype']\n",
    "                .map({'river': 'green', 'ocean': 'blue'}))\n",
    "\n",
    "fig.add_trace(go.Scattermapbox(\n",
    "    name=\"watertype\",\n",
    "    mode='markers',\n",
    "    marker=dict(size=5, color=marker_color, opacity=0.1),\n",
    "    text=marker_text,\n",
    "    lat=merged_activity['latitude'], lon=merged_activity['longitude']\n",
    "))\n",
    "\n",
    "# Show map\n",
    "fig.show()"
   ]
  },
  {
   "cell_type": "markdown",
   "metadata": {},
   "source": [
    "# 4. Meteorology"
   ]
  },
  {
   "cell_type": "markdown",
   "metadata": {},
   "source": [
    "## 4.1. Temperature"
   ]
  },
  {
   "cell_type": "markdown",
   "metadata": {},
   "source": [
    "### Map"
   ]
  },
  {
   "cell_type": "code",
   "execution_count": null,
   "metadata": {},
   "outputs": [],
   "source": [
    "# Create and configure map layout\n",
    "fig = go.Figure(\n",
    "    layout=dict(\n",
    "        legend=dict(yanchor=\"top\", y=0.99, xanchor=\"right\", x=0.99),\n",
    "        margin={'l': 0, 't': 0, 'b': 0, 'r': 0},\n",
    "        mapbox={\n",
    "            'style': \"open-street-map\",\n",
    "            'center': {'lon': -112, 'lat': 48},\n",
    "            'zoom': 2\n",
    "        }\n",
    "    )\n",
    ")\n",
    "\n",
    "# Add watertype Markers\n",
    "marker_text = (merged_activity\n",
    "               .apply(lambda row:f\"activity_id:{row['activity_id']}<br> date: {row['date']}<br> air_temp: {row['air_temp']}\", axis=1))\n",
    "marker_color = merged_activity['air_temp']\n",
    "\n",
    "fig.add_trace(go.Scattermapbox(\n",
    "    name=\"air_temp\",\n",
    "    mode='markers',\n",
    "    marker=dict(size=5, color=marker_color, opacity=0.7, colorscale='RdBu_r', colorbar=dict(title=\"Air Temperature\")),\n",
    "    text=marker_text,\n",
    "    lat=merged_activity['latitude'], lon=merged_activity['longitude']\n",
    "))\n",
    "\n",
    "# Show the figure\n",
    "fig.show()"
   ]
  },
  {
   "cell_type": "markdown",
   "metadata": {},
   "source": [
    "### Time Series"
   ]
  },
  {
   "cell_type": "code",
   "execution_count": null,
   "metadata": {},
   "outputs": [],
   "source": [
    "# Data filter\n",
    "filtered_df = (merged_activity\n",
    "               .drop_duplicates(subset='activity_id', keep='first')\n",
    "               .copy())\n",
    "\n",
    "# Calculating year and month\n",
    "filtered_df['year'] = filtered_df['date'].dt.year\n",
    "filtered_df['month'] = filtered_df['date'].dt.month\n",
    "\n",
    "# Calculating monthly temp mean\n",
    "month_mean_temp = filtered_df.groupby(['year', 'month'])['air_temp'].mean().reset_index()\n",
    "\n",
    "# Creating a date column from year and month\n",
    "month_mean_temp['date'] = pd.to_datetime(month_mean_temp[['year', 'month']].assign(day=1))\n",
    "\n",
    "# Visualization\n",
    "plt.plot(month_mean_temp['date'], month_mean_temp['air_temp'],\n",
    "         color='#00bfc4', label='Monthly Temp (ºFahrenheit)', linewidth=1)\n",
    "plt.xlabel('Date')\n",
    "plt.ylabel('Air Temp')\n",
    "plt.title('Monthly Evolution of air temp')\n",
    "plt.legend()\n",
    "plt.grid(True)\n",
    "plt.show()"
   ]
  },
  {
   "cell_type": "markdown",
   "metadata": {},
   "source": [
    "## 4.2. wind_speed"
   ]
  },
  {
   "cell_type": "markdown",
   "metadata": {},
   "source": [
    "### Map"
   ]
  },
  {
   "cell_type": "code",
   "execution_count": null,
   "metadata": {},
   "outputs": [],
   "source": [
    "# Create and configure map layout\n",
    "fig = go.Figure(\n",
    "    layout=dict(\n",
    "        legend=dict(yanchor=\"top\", y=0.99, xanchor=\"right\", x=0.99),\n",
    "        margin={'l': 0, 't': 0, 'b': 0, 'r': 0},\n",
    "        mapbox={\n",
    "            'style': \"open-street-map\",\n",
    "            'center': {'lon': -112, 'lat': 48},\n",
    "            'zoom': 2\n",
    "        }\n",
    "    )\n",
    ")\n",
    "\n",
    "# Add watertype Markers\n",
    "marker_text = (merged_activity\n",
    "               .apply(lambda row:f\"activity_id:{row['activity_id']}<br> date: {row['date']}<br> wind_speed: {row['wind_speed']}\", axis=1))\n",
    "\n",
    "merged_activity['wind_speed'] = pd.to_numeric(merged_activity['wind_speed'], errors='coerce')\n",
    "marker_color = np.digitize(merged_activity['wind_speed'], np.percentile(merged_activity['wind_speed'], [33, 66]))\n",
    "\n",
    "fig.add_trace(go.Scattermapbox(\n",
    "    name=\"wind_speed\",\n",
    "    mode='markers',\n",
    "    marker=dict(size=5, color=marker_color, opacity=0.7, colorscale='RdBu_r', colorbar=dict(title=\"wind_speed\")),\n",
    "    text=marker_text,\n",
    "    lat=merged_activity['latitude'], lon=merged_activity['longitude']\n",
    "))\n",
    "\n",
    "# Show the figure\n",
    "fig.show()"
   ]
  },
  {
   "cell_type": "markdown",
   "metadata": {},
   "source": [
    "# 5. event_class VS Other Variables"
   ]
  },
  {
   "cell_type": "markdown",
   "metadata": {},
   "source": [
    "## 5.1. event_class VS Vessel Features"
   ]
  },
  {
   "cell_type": "code",
   "execution_count": null,
   "metadata": {},
   "outputs": [],
   "source": [
    "# Filter data \n",
    "filtered_df = (merged_activity\n",
    "               [['event_class', 'gross_ton', 'length', 'age']]\n",
    "               [(merged_activity['gross_ton'] < 1000)\n",
    "                & (merged_activity['length'] < 250)\n",
    "                & (merged_activity['age'] > 0) & (merged_activity['age'] < 50)])\n",
    "\n",
    "# Pivot data\n",
    "filtered_df = pd.melt(filtered_df, id_vars='event_class', var_name='variable', value_name='value')\n",
    "\n",
    "# Plot boxplot\n",
    "g = sns.FacetGrid(filtered_df, col='variable', sharey=False, col_wrap=3)\n",
    "g.map_dataframe(sns.boxplot, x='event_class', y='value', palette='viridis',\n",
    "                flierprops=dict(markerfacecolor='darkgrey', markeredgecolor='none', markersize=4))\n",
    "g.map_dataframe(sns.pointplot, x='event_class', y='value', color='darkgrey', markers='.')\n",
    "\n",
    "# Customize plot\n",
    "g.set_titles(\"Boxplot of {col_name}\")\n",
    "g.set_axis_labels(\"event_class\", \"\")\n",
    "g.set_xticklabels(rotation=45, rotation_mode='anchor', ha ='right')\n",
    "\n",
    "plt.show()"
   ]
  },
  {
   "cell_type": "markdown",
   "metadata": {},
   "source": [
    "## 5.2. event_class VS Meteorology"
   ]
  },
  {
   "cell_type": "code",
   "execution_count": null,
   "metadata": {},
   "outputs": [],
   "source": [
    "# Filter data \n",
    "filtered_df = (merged_activity\n",
    "               [['event_class', 'air_temp', 'wind_speed', 'wave_hgt', 'visibility']]\n",
    "               [(merged_activity['air_temp'] > 0)\n",
    "                & (merged_activity['wind_speed'] < 100)\n",
    "                & (merged_activity['wave_hgt'] < 10)\n",
    "                & (merged_activity['visibility'] > 96)])\n",
    "\n",
    "# Pivot data\n",
    "filtered_df = pd.melt(filtered_df, id_vars='event_class', var_name='variable', value_name='value')\n",
    "\n",
    "# Plot boxplot\n",
    "g = sns.FacetGrid(filtered_df, col='variable', sharex=False, col_wrap=2)\n",
    "g.map_dataframe(sns.boxplot, x='value', y='event_class', palette='viridis',\n",
    "                flierprops=dict(markerfacecolor='darkgrey', markeredgecolor='none', markersize=4))\n",
    "g.map_dataframe(sns.pointplot, x='value', y='event_class', color='darkgrey', markers='.')\n",
    "\n",
    "# Customize plot\n",
    "g.set_titles(\"Boxplot of {col_name}\")\n",
    "g.set_axis_labels(\"\", \"event_class\")\n",
    "\n",
    "plt.show()"
   ]
  },
  {
   "cell_type": "markdown",
   "metadata": {},
   "source": [
    "## 5.3. event_class per region"
   ]
  },
  {
   "cell_type": "code",
   "execution_count": null,
   "metadata": {},
   "outputs": [],
   "source": [
    "# Filter and pivot data: \n",
    "filtered_df = (merged_activity\n",
    "               .groupby(['region', 'event_class'])\n",
    "               .size().reset_index(name='frequency')\n",
    "               .pivot(index='region', columns='event_class', values='frequency'))\n",
    "\n",
    "# Sorting per total\n",
    "filtered_df['Total'] = filtered_df.sum(axis=1)\n",
    "filtered_df = filtered_df.sort_values(by='Total', ascending=True)\n",
    "filtered_df.drop('Total', axis=1, inplace=True)\n",
    "\n",
    "# Plot\n",
    "filtered_df.plot(kind='bar', stacked=True)\n",
    "\n",
    "# Customize plot\n",
    "plt.xlabel('')\n",
    "plt.ylabel('Incidents')\n",
    "plt.title('event_class per region frequency')\n",
    "plt.legend(title='event_class')\n",
    "\n",
    "plt.show()"
   ]
  },
  {
   "cell_type": "markdown",
   "metadata": {},
   "source": [
    "## 5.X. damage_status VS Meteorology"
   ]
  },
  {
   "cell_type": "code",
   "execution_count": null,
   "metadata": {},
   "outputs": [],
   "source": [
    "# Filter data \n",
    "filtered_df = (merged_activity\n",
    "               [['damage_status', 'air_temp', 'wind_speed', 'wave_hgt', 'visibility']]\n",
    "               [((merged_activity['damage_status'] == \"Damaged\")\n",
    "                 | (merged_activity['damage_status'] == \"Undamaged\"))\n",
    "                 & (merged_activity['air_temp'] > 0) & (merged_activity['air_temp'] < 300)\n",
    "                 & (merged_activity['wind_speed'] > 15) & (merged_activity['wind_speed'] < 85)\n",
    "                 & (merged_activity['wave_hgt'] > 0) & (merged_activity['wave_hgt'] < 10)\n",
    "                 & (merged_activity['visibility'] > 95) & (merged_activity['visibility'] < 98)])\n",
    "\n",
    "# Pivot data\n",
    "filtered_df = pd.melt(filtered_df, id_vars='damage_status', var_name='variable', value_name='value')\n",
    "\n",
    "# Plot boxplot\n",
    "g = sns.FacetGrid(filtered_df, col='variable', sharey=False, col_wrap=2)\n",
    "g.map_dataframe(sns.boxplot, x='damage_status', y='value', palette='viridis',\n",
    "                flierprops=dict(markerfacecolor='darkgrey', markeredgecolor='none', markersize=4))\n",
    "g.map_dataframe(sns.pointplot, x='damage_status', y='value', color='darkgrey', markers='.')\n",
    "\n",
    "# Customize plot\n",
    "g.set_titles(\"Boxplot of {col_name}\")\n",
    "g.set_axis_labels(\"event_class\", \"\")\n",
    "\n",
    "plt.show()"
   ]
  },
  {
   "cell_type": "markdown",
   "metadata": {},
   "source": [
    "# 6. Correlations"
   ]
  },
  {
   "cell_type": "markdown",
   "metadata": {},
   "source": [
    "## 6.1. Correlation matrix"
   ]
  },
  {
   "cell_type": "code",
   "execution_count": null,
   "metadata": {},
   "outputs": [],
   "source": [
    "# Drop unvaluable variables\n",
    "filtered_df= (merged_activity\n",
    "              .drop(['activity_id', 'date', 'build_year', 'vessel_id', 'imo_number', 'vessel_name'],\n",
    "                    axis=1))\n",
    "\n",
    "# Convert hour to decimal format\n",
    "filtered_df['hour'] = (filtered_df['hour'].str.split(\":\")\n",
    "                       .apply(lambda x: int(x[0]) + int(x[1]) / 60))\n",
    "\n",
    "# Convert to numerical using cat.codes\n",
    "filtered_df['region'] = filtered_df['region'].astype('category').cat.codes\n",
    "filtered_df['watertype'] = filtered_df['watertype'].astype('category').cat.codes\n",
    "filtered_df['event_type'] = filtered_df['event_type'].astype('category').cat.codes\n",
    "filtered_df['damage_status'] = filtered_df['damage_status'].astype('category').cat.codes\n",
    "filtered_df['vessel_class'] = filtered_df['vessel_class'].astype('category').cat.codes\n",
    "filtered_df['flag_abbr'] = filtered_df['flag_abbr'].astype('category').cat.codes\n",
    "filtered_df['classification_society'] = filtered_df['classification_society'].astype('category').cat.codes\n",
    "filtered_df['solas_desc'] = filtered_df['solas_desc'].astype('category').cat.codes\n",
    "filtered_df['casualty'] = filtered_df['casualty'].astype('category').cat.codes\n",
    "filtered_df['pollution'] = filtered_df['pollution'].astype('category').cat.codes\n",
    "filtered_df['event_class'] = filtered_df['event_class'].astype('category').cat.codes\n",
    "\n",
    "# Convert all to numeric\n",
    "filtered_df = filtered_df.apply(lambda x: pd.to_numeric(x, errors='coerce'))\n",
    "\n",
    "# Heatmap for correlation matrix \n",
    "plt.figure(figsize=(10, 8))\n",
    "sns.heatmap(filtered_df.corr(), annot=True, cmap='coolwarm', annot_kws={\"fontsize\":8}, fmt=\".2f\")\n",
    "plt.title('Correlation matrix')\n",
    "plt.show()"
   ]
  },
  {
   "cell_type": "markdown",
   "metadata": {},
   "source": [
    "# 7. Extra: Automatic EDA report"
   ]
  },
  {
   "cell_type": "code",
   "execution_count": null,
   "metadata": {},
   "outputs": [],
   "source": [
    "# Create ydata_profiling report\n",
    "profile = ProfileReport(merged_activity, title='merged_activity: EDA')\n",
    "\n",
    "# Export inform\n",
    "if file_export_enabled :\n",
    "    profile.to_file(\"Exported Reports/merged_activity_EDA.html\")\n",
    "else:\n",
    "    print('EDA report already exported')"
   ]
  },
  {
   "cell_type": "markdown",
   "metadata": {},
   "source": [
    "<hr style=\"border: 1px solid #2fa4e7;\">"
   ]
  }
 ],
 "metadata": {
  "kernelspec": {
   "display_name": "Python 3",
   "language": "python",
   "name": "python3"
  },
  "language_info": {
   "codemirror_mode": {
    "name": "ipython",
    "version": 3
   },
   "file_extension": ".py",
   "mimetype": "text/x-python",
   "name": "python",
   "nbconvert_exporter": "python",
   "pygments_lexer": "ipython3",
   "version": "3.11.5"
  }
 },
 "nbformat": 4,
 "nbformat_minor": 2
}
