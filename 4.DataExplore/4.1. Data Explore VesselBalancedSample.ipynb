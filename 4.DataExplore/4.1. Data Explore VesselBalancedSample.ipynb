{
 "cells": [
  {
   "cell_type": "markdown",
   "metadata": {},
   "source": [
    "# Predictive analysis of naval incidents in the USA, 2002 - 2015: <br>\n",
    "## Annex 4.1. Data Explore: VesselBalancedSample"
   ]
  },
  {
   "cell_type": "markdown",
   "metadata": {},
   "source": [
    "> Author: [Oscar Anton](https://www.linkedin.com/in/oscanton/) <br>\n",
    "> Date: 2024 <br>\n",
    "> License: [CC BY-NC-ND 4.0 DEED](https://creativecommons.org/licenses/by-nc-nd/4.0/) <br>\n",
    "> Version: 0.9 <br>"
   ]
  },
  {
   "cell_type": "markdown",
   "metadata": {},
   "source": [
    "# 0. Loadings"
   ]
  },
  {
   "cell_type": "markdown",
   "metadata": {},
   "source": [
    "### Libraries"
   ]
  },
  {
   "cell_type": "code",
   "execution_count": null,
   "metadata": {},
   "outputs": [],
   "source": [
    "# Data general management\n",
    "\n",
    "import pandas as pd\n",
    "\n",
    "# Visualization\n",
    "import matplotlib.pyplot as plt\n",
    "import seaborn as sns\n",
    "\n",
    "# Automatic Exploratory Data Analysis (EDA) report\n",
    "from ydata_profiling import ProfileReport\n",
    "\n",
    "# Ignore warnings\n",
    "import warnings\n",
    "warnings.filterwarnings(\"ignore\")"
   ]
  },
  {
   "cell_type": "markdown",
   "metadata": {},
   "source": [
    "### General variables"
   ]
  },
  {
   "cell_type": "code",
   "execution_count": null,
   "metadata": {},
   "outputs": [],
   "source": [
    "# Main data folder\n",
    "merged_activity_folder = '../3.DataPreprocess/DataMergedActivity'\n",
    "\n",
    "# Toggle for export data to external file\n",
    "file_export_enabled = False"
   ]
  },
  {
   "cell_type": "markdown",
   "metadata": {},
   "source": [
    "### Load base dataframe"
   ]
  },
  {
   "cell_type": "code",
   "execution_count": null,
   "metadata": {},
   "outputs": [],
   "source": [
    "# Load dataframe from external file\n",
    "VesselBalancedSample = pd.read_feather(merged_activity_folder + '/' + 'VesselBalancedSample.feather')\n",
    "\n",
    "# Check dataframe structure\n",
    "print(f'VesselBalancedSample {VesselBalancedSample.shape} loaded')\n",
    "VesselBalancedSample.head()"
   ]
  },
  {
   "cell_type": "markdown",
   "metadata": {},
   "source": [
    "# 1. Vessel features"
   ]
  },
  {
   "cell_type": "markdown",
   "metadata": {},
   "source": [
    "## 1.1. vessel_class"
   ]
  },
  {
   "cell_type": "markdown",
   "metadata": {},
   "source": [
    "### Frequency"
   ]
  },
  {
   "cell_type": "code",
   "execution_count": null,
   "metadata": {},
   "outputs": [],
   "source": [
    "# Filter data: group by vessel class\n",
    "filtered_df = (VesselBalancedSample\n",
    "               .drop_duplicates(subset='vessel_id', keep='first')\n",
    "               .groupby('vessel_class').size().reset_index(name='frequency')\n",
    "               .sort_values(by='frequency', ascending=False))\n",
    "\n",
    "# Plot barplot\n",
    "plt.figure(figsize=(10, 6))\n",
    "sns.barplot(x='frequency', y='vessel_class', data=filtered_df, palette='viridis')\n",
    "\n",
    "# Customize plot\n",
    "plt.title('Vessel type')\n",
    "plt.xlabel('Number of vessels')\n",
    "plt.ylabel(None) \n",
    "plt.show()"
   ]
  },
  {
   "cell_type": "markdown",
   "metadata": {},
   "source": [
    "## 1.2. build_year"
   ]
  },
  {
   "cell_type": "markdown",
   "metadata": {},
   "source": [
    "### Frequency"
   ]
  },
  {
   "cell_type": "code",
   "execution_count": null,
   "metadata": {},
   "outputs": [],
   "source": [
    "# Filter data: build_year between 1800 and 2015\n",
    "filtered_df = (VesselBalancedSample\n",
    "               [(VesselBalancedSample['build_year'] >= 1800) & (VesselBalancedSample['build_year'] <= 2015)]\n",
    "               .drop_duplicates(subset='vessel_id', keep='first'))\n",
    "\n",
    "# Plot histogram\n",
    "plt.figure(figsize=(10, 6))\n",
    "sns.histplot(filtered_df['build_year'], bins=range(1800, 2016), edgecolor='None', color='#00bfc4', alpha=0.9)\n",
    "\n",
    "# Customize plot\n",
    "plt.title('Distribution of build year')\n",
    "plt.xlabel('Build Year')\n",
    "plt.ylabel('Number of vessels')\n",
    "plt.grid(True)\n",
    "plt.show()"
   ]
  },
  {
   "cell_type": "markdown",
   "metadata": {},
   "source": [
    "## 1.3. gross_tonnage"
   ]
  },
  {
   "cell_type": "markdown",
   "metadata": {},
   "source": [
    "### Density"
   ]
  },
  {
   "cell_type": "code",
   "execution_count": null,
   "metadata": {},
   "outputs": [],
   "source": [
    "# Filter data\n",
    "filtered_df = (VesselBalancedSample\n",
    "               [(VesselBalancedSample['gross_ton'] >= 1) & (VesselBalancedSample['gross_ton'] <= 250000)]\n",
    "               .drop_duplicates(subset='vessel_id', keep='first'))\n",
    "\n",
    "# Labels for facet wrap\n",
    "labels = [\"1-100\", \"100-1000\", \"1000-50000\", \"50000-250000\"]\n",
    "filtered_df['gross_ton_range'] = pd.cut(filtered_df['gross_ton'], bins=[0, 100, 1000, 50000, 250000], labels=labels)\n",
    "\n",
    "# Plot\n",
    "sns.set(style=\"whitegrid\")\n",
    "g = sns.FacetGrid(filtered_df, col=\"gross_ton_range\", col_wrap=2, height=4, sharey=False, sharex=False)\n",
    "g.map(sns.kdeplot, \"gross_ton\", shade=True)\n",
    "g.set_axis_labels(\"Gross Ton\", \"Density\")\n",
    "g.set_titles(\"Range {col_name}\")\n",
    "\n",
    "# Customize plot\n",
    "plt.suptitle('Vessel Gross Tonnage (Density)')\n",
    "plt.tight_layout()\n",
    "plt.show()"
   ]
  },
  {
   "cell_type": "markdown",
   "metadata": {},
   "source": [
    "### Ranking"
   ]
  },
  {
   "cell_type": "code",
   "execution_count": null,
   "metadata": {},
   "outputs": [],
   "source": [
    "# Filter data\n",
    "filtered_df = (VesselBalancedSample\n",
    "               [['vessel_id', 'imo_number', 'vessel_name', 'build_year', 'gross_ton', 'length']]\n",
    "               .sort_values(by='gross_ton', ascending=False)\n",
    "               .drop_duplicates()\n",
    "               .head(10))\n",
    "\n",
    "# Table output\n",
    "print(filtered_df)"
   ]
  },
  {
   "cell_type": "markdown",
   "metadata": {},
   "source": [
    "## 1.4. Vessel length"
   ]
  },
  {
   "cell_type": "markdown",
   "metadata": {},
   "source": [
    "### Densitity"
   ]
  },
  {
   "cell_type": "code",
   "execution_count": null,
   "metadata": {},
   "outputs": [],
   "source": [
    "# Filter data\n",
    "filtered_df = (VesselBalancedSample\n",
    "               [(VesselBalancedSample['length'] >= 1) & (VesselBalancedSample['length'] <= 1250)]\n",
    "               .drop_duplicates(subset='vessel_id', keep='first'))\n",
    "\n",
    "# Labels for facet wrap\n",
    "labels = [\"1-250\", \"250-1000\"]\n",
    "filtered_df['length_range'] = pd.cut(filtered_df['length'], bins=[0, 250, 1000], labels=labels)\n",
    "\n",
    "# Plot\n",
    "g = sns.FacetGrid(filtered_df, col=\"length_range\", col_wrap=1, height=3, aspect=7/3, sharey=False, sharex=False)\n",
    "g.map(sns.kdeplot, \"length\", shade=True)\n",
    "\n",
    "# Customize plot\n",
    "g.set_axis_labels(\"Length\", \"Density\")\n",
    "g.set_titles(\"Range {col_name}\")\n",
    "\n",
    "plt.suptitle('Vessel Lengths (Density)')\n",
    "plt.tight_layout()\n",
    "plt.show()"
   ]
  },
  {
   "cell_type": "markdown",
   "metadata": {},
   "source": [
    "### Ranking"
   ]
  },
  {
   "cell_type": "code",
   "execution_count": null,
   "metadata": {},
   "outputs": [],
   "source": [
    "# Filter data\n",
    "filtered_df =(VesselBalancedSample\n",
    "              [['vessel_id', 'imo_number', 'vessel_name', 'build_year', 'gross_ton', 'length']]\n",
    "              .sort_values(by='length', ascending=False)\n",
    "              .drop_duplicates()\n",
    "              .head(10))\n",
    "\n",
    "# Table output\n",
    "print(filtered_df)"
   ]
  },
  {
   "cell_type": "markdown",
   "metadata": {},
   "source": [
    "## 1.5. Flag"
   ]
  },
  {
   "cell_type": "markdown",
   "metadata": {},
   "source": [
    "### Frequency (All)"
   ]
  },
  {
   "cell_type": "code",
   "execution_count": null,
   "metadata": {},
   "outputs": [],
   "source": [
    "# Filter data: group by vessel class\n",
    "filtered_df = (VesselBalancedSample\n",
    "               .drop_duplicates(subset='vessel_id', keep='first')\n",
    "               .groupby('flag_abbr').size().reset_index(name='frequency')\n",
    "               .sort_values(by='frequency', ascending=False)\n",
    "               .head(10))\n",
    "\n",
    "# Plot barplot\n",
    "plt.figure(figsize=(10, 6))\n",
    "sns.barplot(x='flag_abbr', y='frequency', data=filtered_df, palette='viridis')\n",
    "\n",
    "# Customize plot\n",
    "plt.title('Flag (All)')\n",
    "plt.xlabel('Country')\n",
    "plt.ylabel('Number of vessels') \n",
    "plt.show()\n",
    "\n"
   ]
  },
  {
   "cell_type": "markdown",
   "metadata": {},
   "source": [
    "### Frequency (Foreign)"
   ]
  },
  {
   "cell_type": "code",
   "execution_count": null,
   "metadata": {},
   "outputs": [],
   "source": [
    "# Filter data: drop US flag, group by vessel class\n",
    "filtered_df = (VesselBalancedSample\n",
    "               [VesselBalancedSample['flag_abbr'] != \"US\"]\n",
    "               .drop_duplicates(subset='vessel_id', keep='first')\n",
    "               .groupby('flag_abbr').size().reset_index(name='frequency')\n",
    "               .sort_values(by='frequency', ascending=False)\n",
    "               .head(10))\n",
    "\n",
    "# Plot barplot\n",
    "plt.figure(figsize=(10, 6))\n",
    "sns.barplot(x='flag_abbr', y='frequency', data=filtered_df, palette='viridis')\n",
    "\n",
    "# Customize plot\n",
    "plt.title('Flag (Foreign)')\n",
    "plt.xlabel('Country')\n",
    "plt.ylabel('Number of vessels') \n",
    "plt.show()"
   ]
  },
  {
   "cell_type": "markdown",
   "metadata": {},
   "source": [
    "## 1.6. Classification Societies"
   ]
  },
  {
   "cell_type": "code",
   "execution_count": null,
   "metadata": {},
   "outputs": [],
   "source": [
    "# Filter data: group by classification_society\n",
    "filtered_df = (VesselBalancedSample\n",
    "               [VesselBalancedSample['classification_society'] != \"UNSPECIFIED\"]\n",
    "               .drop_duplicates(subset='vessel_id', keep='first')\n",
    "               .groupby('classification_society').size().reset_index(name='frequency')\n",
    "               .sort_values(by='frequency', ascending=False)\n",
    "               .head(10))\n",
    "\n",
    "# Plot barplot\n",
    "plt.figure(figsize=(10, 6))\n",
    "sns.barplot(x='frequency', y='classification_society', data=filtered_df, palette='viridis')\n",
    "\n",
    "# Percentage\n",
    "filtered_df['percentage'] = filtered_df['frequency'] / filtered_df['frequency'].sum() * 100\n",
    "for i, (value, percentage) in enumerate(zip(filtered_df['frequency'], filtered_df['percentage'])):\n",
    "    plt.text(value / 2, i, f'{percentage:.1f}%', va='center', ha='center', color='white')\n",
    "\n",
    "# Customize plot\n",
    "plt.title('Classification Societies')\n",
    "plt.xlabel('Number of vessels')\n",
    "plt.ylabel(None)\n",
    "plt.show()"
   ]
  },
  {
   "cell_type": "markdown",
   "metadata": {},
   "source": [
    "## 1.7. SOLAS Membership"
   ]
  },
  {
   "cell_type": "code",
   "execution_count": null,
   "metadata": {},
   "outputs": [],
   "source": [
    "# Filter data: group by SOLAS\n",
    "filtered_df = (VesselBalancedSample\n",
    "               .drop_duplicates(subset='vessel_id', keep='first')\n",
    "               .groupby('solas_desc').size().reset_index(name='frequency')\n",
    "               .sort_values(by='frequency', ascending=True))\n",
    "\n",
    "# Plot barplot\n",
    "plt.figure(figsize=(10, 6))\n",
    "sns.barplot(x='solas_desc', y='frequency', data=filtered_df, palette='viridis') \n",
    "\n",
    "# Percentage\n",
    "filtered_df['percentage'] = filtered_df['frequency'] / filtered_df['frequency'].sum() * 100\n",
    "for i, (value, percentage) in enumerate(zip(filtered_df['frequency'], filtered_df['percentage'])):\n",
    "    plt.text(i, value / 2, f'{percentage:.1f}%', va='center', ha='center', color='lightgrey')\n",
    "\n",
    "# Customize plot\n",
    "plt.title('SOLAS Membership')\n",
    "plt.xlabel(None)\n",
    "plt.ylabel('Number of vessels') \n",
    "plt.show()"
   ]
  },
  {
   "cell_type": "markdown",
   "metadata": {},
   "source": [
    "# 2. Incidents"
   ]
  },
  {
   "cell_type": "markdown",
   "metadata": {},
   "source": [
    "## 2.1. event_type"
   ]
  },
  {
   "cell_type": "markdown",
   "metadata": {},
   "source": [
    "### Frequency"
   ]
  },
  {
   "cell_type": "code",
   "execution_count": null,
   "metadata": {},
   "outputs": [],
   "source": [
    "# Filter data: group by event_type\n",
    "filtered_df = (VesselBalancedSample\n",
    "               [VesselBalancedSample['event_type'] != \"No event\"]\n",
    "               .drop_duplicates(subset='vessel_id', keep='first')\n",
    "               .groupby('event_type').size().reset_index(name='frequency')\n",
    "               .sort_values(by='frequency', ascending=False))\n",
    "\n",
    "# Plot barplot\n",
    "plt.figure(figsize=(10, 6))\n",
    "sns.barplot(x='frequency', y='event_type', data=filtered_df, palette='viridis')\n",
    "\n",
    "# Customize plot\n",
    "plt.title('Incidents')\n",
    "plt.xlabel('Number of vessels')\n",
    "plt.ylabel('Event type') \n",
    "plt.show()"
   ]
  },
  {
   "cell_type": "markdown",
   "metadata": {},
   "source": [
    "## 2.2. damage_status"
   ]
  },
  {
   "cell_type": "markdown",
   "metadata": {},
   "source": [
    "### Frequency"
   ]
  },
  {
   "cell_type": "code",
   "execution_count": null,
   "metadata": {},
   "outputs": [],
   "source": [
    "# Filter data: group by damage_status\n",
    "filtered_df = (VesselBalancedSample\n",
    "               .drop_duplicates(subset='vessel_id', keep='first')\n",
    "               .groupby('damage_status').size().reset_index(name='frequency')\n",
    "               .sort_values(by='frequency', ascending=False))\n",
    "\n",
    "# Plot barplot\n",
    "plt.figure(figsize=(10, 6))\n",
    "sns.barplot(x='frequency', y='damage_status', data=filtered_df, palette='viridis')\n",
    "\n",
    "# Customize plot\n",
    "plt.title('Damage Status')\n",
    "plt.xlabel('Number of vessels')\n",
    "plt.ylabel('Consequence') \n",
    "plt.show()"
   ]
  },
  {
   "cell_type": "markdown",
   "metadata": {},
   "source": [
    "# 3. Incident Involvement"
   ]
  },
  {
   "cell_type": "markdown",
   "metadata": {},
   "source": [
    "## 3.1. Incident Involvement / Vessel features"
   ]
  },
  {
   "cell_type": "code",
   "execution_count": null,
   "metadata": {},
   "outputs": [],
   "source": [
    "# Add 'involved' (true/false) variable to base dataframe\n",
    "VesselBalancedSample['involved'] = VesselBalancedSample['event_type'] != \"No event\"\n",
    "\n",
    "# Filter data \n",
    "filtered_df = (VesselBalancedSample\n",
    "               [['involved', 'gross_ton', 'length', 'build_year']]\n",
    "               [(VesselBalancedSample['gross_ton'] < 400) & \n",
    "                (VesselBalancedSample['length'] < 250) & \n",
    "                (VesselBalancedSample['build_year'] > 1950)])\n",
    "\n",
    "# Pivot data\n",
    "filtered_df = pd.melt(filtered_df, id_vars='involved', var_name='variable', value_name='value')\n",
    "\n",
    "# Plot boxplot\n",
    "g = sns.FacetGrid(filtered_df, col='variable', sharey=False, col_wrap=3)\n",
    "g.map_dataframe(sns.boxplot, x='involved', y='value', palette='viridis',\n",
    "                flierprops=dict(markerfacecolor='darkgrey', markeredgecolor='none', markersize=4))\n",
    "g.map_dataframe(sns.pointplot, x='involved', y='value', color='darkgrey', markers='.')\n",
    "\n",
    "# Customize plot\n",
    "g.set_titles(\"Boxplot of {col_name}\")\n",
    "g.set_axis_labels(\"Involved\", \"Value\")\n",
    "\n",
    "plt.show()"
   ]
  },
  {
   "cell_type": "markdown",
   "metadata": {},
   "source": [
    "### Incident involvement / build_year"
   ]
  },
  {
   "cell_type": "code",
   "execution_count": null,
   "metadata": {},
   "outputs": [],
   "source": [
    "# Filter data: \n",
    "filtered_df = (VesselBalancedSample\n",
    "               [(VesselBalancedSample['build_year'] >= 1800) & (VesselBalancedSample['build_year'] <= 2015)]\n",
    "               .groupby('build_year')['involved']\n",
    "               .agg(involved='sum', not_involved=lambda x: len(x) - sum(x), total='count')\n",
    "               .sort_values(by='total', ascending=False)\n",
    "               .reset_index())\n",
    "\n",
    "# Plot bars in stack manner\n",
    "plt.figure(figsize=(10, 6))\n",
    "inv_bars = plt.bar(filtered_df['build_year'], filtered_df['involved'],\n",
    "                   color='orangered', edgecolor='none')\n",
    "notinv_bars = plt.bar(filtered_df['build_year'], filtered_df['not_involved'],\n",
    "                      bottom=filtered_df['involved'],\n",
    "                      color='#00bfc4', edgecolor='none')\n",
    "\n",
    "# Customize plot\n",
    "plt.title('Involvement in incidents according to build year')\n",
    "plt.xlabel('build year')\n",
    "plt.ylabel('Number of vessels')\n",
    "plt.legend((inv_bars[0], notinv_bars[0]), ('Involved', 'Not Involved'), loc='upper left')\n",
    "plt.show()"
   ]
  },
  {
   "cell_type": "markdown",
   "metadata": {},
   "source": [
    "## 3.2. Incident involvement / vessel_class"
   ]
  },
  {
   "cell_type": "code",
   "execution_count": null,
   "metadata": {},
   "outputs": [],
   "source": [
    "# Filter data: \n",
    "filtered_df = (VesselBalancedSample\n",
    "               .groupby('vessel_class')['involved']\n",
    "               .agg(involved='sum', not_involved=lambda x: len(x) - sum(x), total='count')\n",
    "               .sort_values(by='total', ascending=True)\n",
    "               .reset_index())\n",
    "\n",
    "# Plot bars in stack manner\n",
    "inv_bars = plt.barh(filtered_df['vessel_class'], filtered_df['involved'],\n",
    "                    color='orangered', edgecolor='none')\n",
    "notinv_bars = plt.barh(filtered_df['vessel_class'], filtered_df['not_involved'],\n",
    "                       left=filtered_df['involved'],\n",
    "                       color='#00bfc4', edgecolor='none')\n",
    "\n",
    "# Customize plot\n",
    "plt.title('Involvement in incidents according to build year')\n",
    "plt.xlabel('Number of vessels')\n",
    "plt.ylabel('Vessel Class')\n",
    "plt.legend((inv_bars[0], notinv_bars[0]), ('Involved', 'Not Involved'), loc='lower right')\n",
    "plt.show()"
   ]
  },
  {
   "cell_type": "markdown",
   "metadata": {},
   "source": [
    "## 3.3. Incident involvement / Flag"
   ]
  },
  {
   "cell_type": "markdown",
   "metadata": {},
   "source": [
    "### All Flags"
   ]
  },
  {
   "cell_type": "code",
   "execution_count": null,
   "metadata": {},
   "outputs": [],
   "source": [
    "# Filter data: \n",
    "filtered_df = (VesselBalancedSample.groupby('flag_abbr')['involved']\n",
    "               .agg(involved='sum', not_involved=lambda x: len(x) - sum(x), total='count')\n",
    "               .sort_values(by='total', ascending=False)\n",
    "               .reset_index()\n",
    "               .head(10))\n",
    "\n",
    "# Plot bars in stack manner\n",
    "inv_bars = plt.bar(filtered_df['flag_abbr'], filtered_df['involved'],\n",
    "                   color='orangered', edgecolor='none')\n",
    "notinv_bars = plt.bar(filtered_df['flag_abbr'], filtered_df['not_involved'],\n",
    "                      bottom=filtered_df['involved'],\n",
    "                      color='#00bfc4', edgecolor='none')\n",
    "\n",
    "# Customize plot\n",
    "plt.title('Involvement in incidents according to flag')\n",
    "plt.xlabel('Country')\n",
    "plt.ylabel('Number of vessels')\n",
    "plt.legend((inv_bars[0], notinv_bars[0]), ('Involved', 'Not Involved'))\n",
    "plt.show()"
   ]
  },
  {
   "cell_type": "markdown",
   "metadata": {},
   "source": [
    "### Foreign Flags"
   ]
  },
  {
   "cell_type": "code",
   "execution_count": null,
   "metadata": {},
   "outputs": [],
   "source": [
    "# Filter data: \n",
    "filtered_df = (VesselBalancedSample\n",
    "               [VesselBalancedSample['flag_abbr'] != \"US\"]\n",
    "               .groupby('flag_abbr')['involved']\n",
    "               .agg(involved='sum', not_involved=lambda x: len(x) - sum(x), total='count')\n",
    "               .sort_values(by='total', ascending=False)\n",
    "               .reset_index()\n",
    "               .head(10))\n",
    "\n",
    "# Plot bars in stack manner\n",
    "inv_bars = plt.bar(filtered_df['flag_abbr'], filtered_df['involved'],\n",
    "                   color='orangered', edgecolor='none')\n",
    "notinv_bars = plt.bar(filtered_df['flag_abbr'], filtered_df['not_involved'],\n",
    "                      bottom=filtered_df['involved'],\n",
    "                      color='#00bfc4', edgecolor='none')\n",
    "\n",
    "# Customize plot\n",
    "plt.title('Involvement in incidents according to flag (foreign)')\n",
    "plt.xlabel('Country')\n",
    "plt.ylabel('Number of vessels')\n",
    "plt.legend((inv_bars[0], notinv_bars[0]), ('Involved', 'Not Involved'))\n",
    "plt.show()"
   ]
  },
  {
   "cell_type": "markdown",
   "metadata": {},
   "source": [
    "## 3.4. Incident involvement / classification_society"
   ]
  },
  {
   "cell_type": "markdown",
   "metadata": {},
   "source": [
    "### All vessels"
   ]
  },
  {
   "cell_type": "code",
   "execution_count": null,
   "metadata": {},
   "outputs": [],
   "source": [
    "# Filter data: \n",
    "filtered_df = (VesselBalancedSample\n",
    "               [VesselBalancedSample['classification_society'] != \"UNSPECIFIED\"]\n",
    "               .groupby('classification_society')['involved']\n",
    "               .agg(involved='sum', not_involved=lambda x: len(x) - sum(x), total='count')\n",
    "               .sort_values(by='total', ascending=False)\n",
    "               .reset_index()\n",
    "               .head(7))\n",
    "\n",
    "# Plot bars in stack manner\n",
    "fig, ax = plt.subplots()\n",
    "inv_bars = ax.barh(filtered_df['classification_society'], filtered_df['involved'],\n",
    "                   color='orangered', edgecolor='none')\n",
    "notinv_bars = ax.barh(filtered_df['classification_society'], filtered_df['not_involved'],\n",
    "                      left=filtered_df['involved'],\n",
    "                      color='#00bfc4', edgecolor='none')\n",
    "\n",
    "# Percentages\n",
    "for i, bar in enumerate(inv_bars):\n",
    "    percentage = '{:.1f}%'.format((filtered_df['involved'][i] / filtered_df['total'][i]) * 100)\n",
    "    ax.text(0 + bar.get_width() / 2, bar.get_y() + bar.get_height() / 2, percentage,\n",
    "            va='center', ha='center', color='white', size='8')\n",
    "\n",
    "for i, bar in enumerate(notinv_bars):\n",
    "    percentage = '{:.1f}%'.format((filtered_df['not_involved'][i] / filtered_df['total'][i]) * 100)\n",
    "    ax.text(bar.get_x() + bar.get_width() / 2, bar.get_y() + bar.get_height() / 2, percentage,\n",
    "            va='center', ha='center', color='white', size='8')\n",
    "\n",
    "# Customize plot\n",
    "plt.title('Involvement in incidents according to Classification Society (All Vessels)')\n",
    "plt.xlabel('Number of vessels')\n",
    "plt.ylabel('Classification Society')\n",
    "plt.legend((inv_bars[0], notinv_bars[0]), ('Involved', 'Not Involved'))\n",
    "plt.show()"
   ]
  },
  {
   "cell_type": "markdown",
   "metadata": {},
   "source": [
    "### gross_ton > 50000 GPT"
   ]
  },
  {
   "cell_type": "code",
   "execution_count": null,
   "metadata": {},
   "outputs": [],
   "source": [
    "# Filter data: \n",
    "filtered_df = (VesselBalancedSample\n",
    "               [(VesselBalancedSample['classification_society'] != \"UNSPECIFIED\") &\n",
    "                (VesselBalancedSample['gross_ton'] >= 50000)]\n",
    "                .groupby('classification_society')['involved']\n",
    "                .agg(involved='sum', not_involved=lambda x: len(x) - sum(x), total='count')\n",
    "                .sort_values(by='total', ascending=False)\n",
    "                .reset_index()\n",
    "                .head(7))\n",
    "\n",
    "# Plot bars in stack manner\n",
    "fig, ax = plt.subplots()\n",
    "inv_bars = ax.barh(filtered_df['classification_society'], filtered_df['involved'],\n",
    "                color='orangered', edgecolor='none')\n",
    "notinv_bars = ax.barh(filtered_df['classification_society'], filtered_df['not_involved'],\n",
    "                      left=filtered_df['involved'],\n",
    "                      color='#00bfc4', edgecolor='none')\n",
    "\n",
    "# Percentages\n",
    "for i, bar in enumerate(inv_bars):\n",
    "    percentage = '{:.1f}%'.format((filtered_df['involved'][i] / filtered_df['total'][i]) * 100)\n",
    "    ax.text(0 + bar.get_width() / 2, bar.get_y() + bar.get_height() / 2, percentage,\n",
    "            va='center', ha='center', color='white', size='8')\n",
    "\n",
    "for i, bar in enumerate(notinv_bars):\n",
    "    percentage = '{:.1f}%'.format((filtered_df['not_involved'][i] / filtered_df['total'][i]) * 100)\n",
    "    ax.text(bar.get_x() + bar.get_width() / 2, bar.get_y() + bar.get_height() / 2, percentage,\n",
    "            va='center', ha='center', color='white', size='8')\n",
    "\n",
    "# Customize plot\n",
    "plt.title('Involvement in incidents according to Classification Society (Gross ton > 50000)')\n",
    "plt.xlabel('Number of vessels')\n",
    "plt.ylabel('Classification Society')\n",
    "plt.legend((inv_bars[0], notinv_bars[0]), ('Involved', 'Not Involved'))\n",
    "plt.show()"
   ]
  },
  {
   "cell_type": "markdown",
   "metadata": {},
   "source": [
    "## 3.5. Incident involvement / SOLAS Membership"
   ]
  },
  {
   "cell_type": "code",
   "execution_count": null,
   "metadata": {},
   "outputs": [],
   "source": [
    "# Filter data: \n",
    "filtered_df = (VesselBalancedSample\n",
    "               .groupby('solas_desc')['involved']\n",
    "               .agg(involved='sum', not_involved=lambda x: len(x) - sum(x), total='count')\n",
    "               .sort_values(by='total', ascending=False)\n",
    "               .reset_index())\n",
    "\n",
    "# Plot bars in stack manner\n",
    "inv_bars = plt.bar(filtered_df['solas_desc'], filtered_df['involved'],\n",
    "                   color='orangered', edgecolor='none')\n",
    "notinv_bars = plt.bar(filtered_df['solas_desc'], filtered_df['not_involved'],\n",
    "                      bottom=filtered_df['involved'],\n",
    "                      color='#00bfc4', edgecolor='none')\n",
    "\n",
    "# Customize plot\n",
    "plt.title('Involvement in incidents according to SOLAS membership')\n",
    "plt.xlabel(None)\n",
    "plt.ylabel('Number of vessels')\n",
    "plt.legend((inv_bars[0], notinv_bars[0]), ('Involved', 'Not Involved'))\n",
    "plt.show()"
   ]
  },
  {
   "cell_type": "markdown",
   "metadata": {},
   "source": [
    "## 3.6. Incident involvement / damage_status"
   ]
  },
  {
   "cell_type": "code",
   "execution_count": null,
   "metadata": {},
   "outputs": [],
   "source": [
    "# Filter data: \n",
    "filtered_df = (VesselBalancedSample\n",
    "               .groupby('damage_status')['involved']\n",
    "               .agg(involved='sum', not_involved=lambda x: len(x) - sum(x), total='count')\n",
    "               .sort_values(by='total', ascending=False)\n",
    "               .reset_index())\n",
    "\n",
    "# Plot bars in stack manner\n",
    "inv_bars = plt.barh(filtered_df['damage_status'], filtered_df['involved'],\n",
    "                    color='orangered', edgecolor='none')\n",
    "notinv_bars = plt.barh(filtered_df['damage_status'], filtered_df['not_involved'],\n",
    "                       left=filtered_df['involved'],\n",
    "                       color='#00bfc4', edgecolor='none')\n",
    "\n",
    "# Customize plot\n",
    "plt.title('Involvement in incidents according to damage')\n",
    "plt.xlabel('Number of vessels')\n",
    "plt.ylabel('Condition')\n",
    "plt.legend((inv_bars[0], notinv_bars[0]), ('Involved', 'Not Involved'))\n",
    "plt.show()"
   ]
  },
  {
   "cell_type": "markdown",
   "metadata": {},
   "source": [
    "# 4. Correlations"
   ]
  },
  {
   "cell_type": "markdown",
   "metadata": {},
   "source": [
    "## 4.1. Correlation Matrix"
   ]
  },
  {
   "cell_type": "code",
   "execution_count": null,
   "metadata": {},
   "outputs": [],
   "source": [
    "# Drop unvaluable variables\n",
    "VesselBalancedSample = VesselBalancedSample.drop(['vessel_id', 'imo_number', 'vessel_name'], axis=1)\n",
    "\n",
    "# Convert to numerical using cat.codes\n",
    "VesselBalancedSample['vessel_class'] = VesselBalancedSample['vessel_class'].astype('category').cat.codes\n",
    "VesselBalancedSample['flag_abbr'] = VesselBalancedSample['flag_abbr'].astype('category').cat.codes\n",
    "VesselBalancedSample['classification_society'] = VesselBalancedSample['classification_society'].astype('category').cat.codes\n",
    "VesselBalancedSample['solas_desc'] = VesselBalancedSample['solas_desc'].astype('category').cat.codes\n",
    "VesselBalancedSample['event_type'] = VesselBalancedSample['event_type'].astype('category').cat.codes\n",
    "VesselBalancedSample['damage_status'] = VesselBalancedSample['damage_status'].astype('category').cat.codes\n",
    "\n",
    "# Convert all to numeric\n",
    "VesselBalancedSample = VesselBalancedSample.apply(lambda x: pd.to_numeric(x, errors='coerce'))\n",
    "\n",
    "# Heatmap for correlation matrix \n",
    "plt.figure(figsize=(10, 8))\n",
    "sns.heatmap(VesselBalancedSample.corr(), annot=True, cmap='coolwarm')\n",
    "plt.title('Correlation matrix')\n",
    "plt.show()"
   ]
  },
  {
   "cell_type": "markdown",
   "metadata": {},
   "source": [
    "# 5. Extra: Automatic EDA report"
   ]
  },
  {
   "cell_type": "code",
   "execution_count": null,
   "metadata": {},
   "outputs": [],
   "source": [
    "# Create ydata_profiling report\n",
    "profile = ProfileReport(VesselBalancedSample, title='VesselBalancedSample: EDA')\n",
    "\n",
    "# Export inform\n",
    "if file_export_enabled :\n",
    "    profile.to_file(\"Exported Reports/VesselBalancedSample_EDA.html\")\n",
    "else:\n",
    "    print('EDA report already exported')"
   ]
  },
  {
   "cell_type": "markdown",
   "metadata": {},
   "source": [
    "<hr style=\"border: 1px solid #2fa4e7;\">"
   ]
  }
 ],
 "metadata": {
  "kernelspec": {
   "display_name": "Python 3",
   "language": "python",
   "name": "python3"
  },
  "language_info": {
   "codemirror_mode": {
    "name": "ipython",
    "version": 3
   },
   "file_extension": ".py",
   "mimetype": "text/x-python",
   "name": "python",
   "nbconvert_exporter": "python",
   "pygments_lexer": "ipython3",
   "version": "3.11.5"
  }
 },
 "nbformat": 4,
 "nbformat_minor": 2
}
